{
 "cells": [
  {
   "cell_type": "code",
   "execution_count": 31,
   "metadata": {},
   "outputs": [],
   "source": [
    "import pickle # für Obj serialisation\n",
    "#import numpy as np\n",
    "import sys\n",
    "import matplotlib.pyplot as plt\n",
    "#sys.path.append('../../attack algorithms/testCode/Event-Based-IM-V2/')\n",
    "import os\n",
    "import time\n",
    "from datetime import datetime\n",
    "import json\n",
    "#import csv\n",
    "from pathlib import Path\n",
    "import csv\n",
    "#import DetectionFunctions as func\n",
    "from typing import List\n",
    "import numpy as np\n",
    "import json\n"
   ]
  },
  {
   "cell_type": "code",
   "execution_count": 32,
   "metadata": {},
   "outputs": [],
   "source": [
    "#Classes:\n",
    "# Load\n",
    "class PacketFile_t:\n",
    "    sizes: list[int] = []\n",
    "    timestamps: list[float] = []\n",
    "    def __init__(self, size: 'list[int]', timestamp: 'list[float]'):\n",
    "        self.sizes = size\n",
    "        if(len(timestamp)==0):\n",
    "            print(\"TIMESTAMP ZERO\")\n",
    "        self.timestamps = timestamp\n",
    "\n",
    "class MsgTraceEvFile_t:\n",
    "    msgTypes: list[str] = []\n",
    "    msgSizes: list[int] = []\n",
    "    msgTimestmps: list[float] = []\n",
    "    def __init__(self, size: 'list[int]',timestamp: 'list[float]', msgType: 'list[str]'):\n",
    "        self.msgSizes = size\n",
    "        self.msgTimestmps = timestamp\n",
    "        self.msgTypes = msgType\n",
    "\n",
    "class ResultObj_t:\n",
    "    def __init__(self, TP: float = 0, FP: float = 0, IntervalLen: int = 0):\n",
    "        self.TP = TP\n",
    "        self.FP = FP\n",
    "        self.IntervalLen = IntervalLen\n",
    "\n",
    "def loadPacketsCSVFile(path: str) -> PacketFile_t:\n",
    "    packetReader = []\n",
    "    msgSizes = []\n",
    "    msgTimestmp = []\n",
    "\n",
    "    with open(path,newline='') as csvfile:\n",
    "        packetReader = csv.DictReader(csvfile, delimiter=';',fieldnames=['timestamp','size'])                \n",
    "        \n",
    "        for p in packetReader:            \n",
    "            msgSizes.append(int(p.get('size')))\n",
    "            msgTimestmp.append(float(p.get('timestamp').replace(',','.')))\n",
    "    print(\"Loaded {} packets\".format(len(msgSizes)))\n",
    "    #print(\"SizeAnfang: {}\".format(msgSizes[0]))\n",
    "    #print(\"timeAnfang: {}\".format(msgTimestmp[0]))\n",
    "    return PacketFile_t(msgSizes,msgTimestmp)\n",
    "\n",
    "def loadMsgTracesFromCSVFile(path: str) -> MsgTraceEvFile_t:\n",
    "    packetReader = []  \n",
    "    msgTypes = []\n",
    "    msgSizes = []\n",
    "    msgTimestmp = []\n",
    "    with open(path,newline='') as csvfile:\n",
    "        packetReader = csv.DictReader(csvfile, delimiter=';',fieldnames=['timestamp','size','type'])                \n",
    "        \n",
    "        for p in packetReader:\n",
    "            msgTypes.append(p.get('type'))\n",
    "            msgSizes.append(int(p.get('size')))\n",
    "            msgTimestmp.append(float(p.get('timestamp').replace(',','.')))\n",
    "\n",
    "            \n",
    "    print(\"Loaded {} msgEvents\".format(len(msgSizes)))\n",
    "    return MsgTraceEvFile_t(msgSizes,msgTimestmp,msgTypes)\n",
    "    #print(\"SizeAnfang: {}\".format(packetFile[0].size))\n",
    "\n"
   ]
  },
  {
   "cell_type": "code",
   "execution_count": 33,
   "metadata": {},
   "outputs": [
    {
     "name": "stdout",
     "output_type": "stream",
     "text": [
      "fileListCount 99\n"
     ]
    }
   ],
   "source": [
    "\n",
    "\n",
    "\n",
    "#packetsRootPath = \"E:/Datasets_uniPaper/converted/telegram/packets\"\n",
    "#tracesRootPath = \"E:/Datasets_uniPaper/converted/telegram/traces\"\n",
    "\n",
    "packetsRootPath = \"D://DataUni//converted//telegram//packets_preprocessed\"\n",
    "tracesRootPath = \"D://DataUni//converted//telegram//traces_preprocessed\"\n",
    "packetPathRAW = \"D://DataUni//converted//telegram//packets\"\n",
    "resultFilePath: str = \"./\"\n",
    "\n",
    "# if(len(sys.argv) == 4):\n",
    "#     print(\"Using csv path Args\")\n",
    "#     packetsRootPath = sys.argv[1]\n",
    "#     tracesRootPath = sys.argv[2]\n",
    "#     resultFilePath = sys.argv[3]\n",
    "# elif (len(sys.argv) == 2):\n",
    "#     print(\"Using resultPath Only\")\n",
    "#     resultFilePath = sys.argv[1]\n",
    "# elif (len(sys.argv)== 1):\n",
    "#     print(\"Using Defaults\")\n",
    "#     resultFilePath = \"./\"\n",
    "# else:\n",
    "#     print (\"Usage: DetectionIM.py <processedPacketsFolder> <processedTracesFolder> <resultFilePath>\")\n",
    "#     print (\"Or: DetectionIM.py <resultFilePath>\")\n",
    "#     print (\"But Received \"+str(len(sys.argv))+\"Arguments..\")\n",
    "#     for a in sys.argv:\n",
    "#         print(a)\n",
    "#     exit()\n",
    "\n",
    "#-------------------------\n",
    "\n",
    "\n",
    "\n",
    "packetfileList = os.listdir(packetsRootPath)\n",
    "packetfileList.sort(key=lambda string: int(string.split('-')[1].replace(\".csv\",\"\"))) # Das ist so eine hässliche sprache das die lösung jetzt dem entsprechend wird.\n",
    "\n",
    "tracefileList = os.listdir(tracesRootPath)\n",
    "tracefileList.sort(key=lambda string: int(string.split('-')[1].replace(\".csv\",\"\"))) # Das ist so eine hässliche sprache das die lösung jetzt dem entsprechend wird.\n",
    "\n",
    "packetRawFileList = os.listdir(packetPathRAW)\n",
    "packetRawFileList.sort(key=lambda string: int(string.split('-')[1].replace(\".csv\",\"\"))) # Das ist so eine hässliche sprache das die lösung jetzt dem entsprechend wird.\n",
    "\n",
    "\n",
    "\n",
    "\n",
    "print(\"fileListCount {}\".format(len(packetfileList)))\n",
    "\n",
    "packetFiles: list[PacketFile_t] = []\n",
    "packetRAWFiles: list[PacketFile_t] = []\n",
    "traceFiles: list[MsgTraceEvFile_t] = []\n",
    "\n"
   ]
  },
  {
   "cell_type": "code",
   "execution_count": 34,
   "metadata": {},
   "outputs": [
    {
     "name": "stdout",
     "output_type": "stream",
     "text": [
      "Loading Files\n",
      "Loaded 8 packets\n",
      "Loaded 3215 packets\n",
      "Loaded 5 msgEvents\n",
      "Loaded 7 packets\n",
      "Loaded 1791 packets\n",
      "Loaded 4 msgEvents\n"
     ]
    }
   ],
   "source": [
    "if(len(packetfileList) != len(tracefileList)):\n",
    "    print(\"Different FilePath list lengths\")\n",
    "else:\n",
    "    print(\"Loading Files\")\n",
    "    for i in range(0,len(packetfileList)):    \n",
    "        pFile = loadPacketsCSVFile(os.path.join(packetsRootPath,packetfileList[i]))\n",
    "        pRAWFile = loadPacketsCSVFile(os.path.join(packetPathRAW,packetRawFileList[i]))\n",
    "        tFile = loadMsgTracesFromCSVFile(os.path.join(tracesRootPath,tracefileList[i]))\n",
    "        #print(len(pFile.timestamp))\n",
    "        packetFiles.append(pFile)\n",
    "        traceFiles.append(tFile)\n",
    "        packetRAWFiles.append(pRAWFile)\n",
    "        if(i >= 1):\n",
    "            break\n",
    "        "
   ]
  },
  {
   "cell_type": "code",
   "execution_count": 35,
   "metadata": {},
   "outputs": [
    {
     "data": {
      "image/png": "[encoded data removed]",
      "text/plain": [
       "<Figure size 640x480 with 2 Axes>"
      ]
     },
     "metadata": {},
     "output_type": "display_data"
    }
   ],
   "source": [
    "fig1, ax1 = plt.subplots()\n",
    "ax2 = ax1.twinx()\n",
    "\n",
    "\n",
    "ax1.scatter(packetRAWFiles[0].timestamps,packetRAWFiles[0].sizes, label=\"PacketSize\")\n",
    "#plt.plot(traceFiles[0].msgTimestmps,traceFiles[0].msgSizes, label=\"traceSize\")\n",
    "ax2.plot(traceFiles[0].msgTimestmps,traceFiles[0].msgTypes, label =\"Trace Type\")\n",
    "\n",
    "plt.show()"
   ]
  }
 ],
 "metadata": {
  "kernelspec": {
   "display_name": "Python 3",
   "language": "python",
   "name": "python3"
  },
  "language_info": {
   "codemirror_mode": {
    "name": "ipython",
    "version": 3
   },
   "file_extension": ".py",
   "mimetype": "text/x-python",
   "name": "python",
   "nbconvert_exporter": "python",
   "pygments_lexer": "ipython3",
   "version": "3.10.6"
  },
  "orig_nbformat": 4
 },
 "nbformat": 4,
 "nbformat_minor": 2
}
